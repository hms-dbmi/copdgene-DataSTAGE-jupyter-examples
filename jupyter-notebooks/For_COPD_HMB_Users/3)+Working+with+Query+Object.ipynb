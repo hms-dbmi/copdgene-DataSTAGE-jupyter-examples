{
 "cells": [
  {
   "cell_type": "markdown",
   "metadata": {},
   "source": [
    "### *You must first run the \"MISC - Install Libraries.ipynb\" notebook to install needed libraries*"
   ]
  },
  {
   "cell_type": "markdown",
   "metadata": {},
   "source": [
    "## Import your security token from file"
   ]
  },
  {
   "cell_type": "code",
   "execution_count": null,
   "metadata": {
    "collapsed": false
   },
   "outputs": [],
   "source": [
    "import os\n",
    "env = %env\n",
    "token_name = \"COPDgene_token.txt\"\n",
    "token_file = token_name\n",
    "has_error = False\n",
    "if os.path.isfile(token_file):\n",
    "    __token__ = open(token_file, \"r\").read()\n",
    "    if len(__token__) == 0:\n",
    "        has_error = True\n",
    "else: \n",
    "    has_error = True\n",
    "if has_error:\n",
    "    print(\"\\x1b[31m\")\n",
    "    print(\"!!! [_Security_Token_Error_] !!!\")\n",
    "    print(\"Please copy and save a valid PIC-SURE authentication token value into the file \\\"\"+token_name+\"\\\".\")\n",
    "    print(\"This file is located in the current Notebook directory.\")\n",
    "    open(token_file, \"w\").write(\"\")\n",
    "else:\n",
    "    print(\"\\x1b[32m\")\n",
    "    print(\"[_Security_Token_Imported_Correctly_]\")"
   ]
  },
  {
   "cell_type": "markdown",
   "metadata": {},
   "source": [
    "## Connect to the NHANES data resource using the HPDS Adapter"
   ]
  },
  {
   "cell_type": "code",
   "execution_count": null,
   "metadata": {
    "collapsed": false
   },
   "outputs": [],
   "source": [
    "import PicSureClient\n",
    "import PicSureHpdsLib\n",
    "\n",
    "client = PicSureClient.Client()\n",
    "connection = client.connect(\"https://copdgene-dev.hms.harvard.edu/picsure/\", __token__, allowSelfSignedSSL=True)\n",
    "adapter = PicSureHpdsLib.Adapter(connection)\n",
    "adapter.list()"
   ]
  },
  {
   "cell_type": "code",
   "execution_count": null,
   "metadata": {
    "collapsed": true
   },
   "outputs": [],
   "source": [
    "resource = adapter.useResource(\"b6ef7b1a-56f6-11e9-8958-0242c0a83007\")"
   ]
  },
  {
   "cell_type": "markdown",
   "metadata": {},
   "source": [
    "### A \"resource\" allows access to the Data Dictionary and Query Engine of the underlying  data source"
   ]
  },
  {
   "cell_type": "code",
   "execution_count": null,
   "metadata": {
    "collapsed": false
   },
   "outputs": [],
   "source": [
    "resource.help()"
   ]
  },
  {
   "cell_type": "markdown",
   "metadata": {},
   "source": [
    "## Create a new query instance and use .help() to see what can be done with it"
   ]
  },
  {
   "cell_type": "code",
   "execution_count": null,
   "metadata": {
    "collapsed": false
   },
   "outputs": [],
   "source": [
    "query = resource.query()\n",
    "query.help()"
   ]
  },
  {
   "cell_type": "markdown",
   "metadata": {},
   "source": [
    "### Use .help() to see how to add entries to the selection criteria"
   ]
  },
  {
   "cell_type": "code",
   "execution_count": null,
   "metadata": {
    "collapsed": false
   },
   "outputs": [],
   "source": [
    "query.select().help()"
   ]
  },
  {
   "cell_type": "markdown",
   "metadata": {
    "collapsed": true
   },
   "source": [
    "### Use a chained of commands on the dictionary object to include all labs in the query's selection list"
   ]
  },
  {
   "cell_type": "code",
   "execution_count": null,
   "metadata": {
    "collapsed": false,
    "scrolled": true
   },
   "outputs": [],
   "source": [
    "query.select().add(resource.dictionary().find(\"medication\").keys())"
   ]
  },
  {
   "cell_type": "markdown",
   "metadata": {},
   "source": [
    "### Use the .show() command to see what is currently selected for the query"
   ]
  },
  {
   "cell_type": "code",
   "execution_count": null,
   "metadata": {
    "collapsed": false
   },
   "outputs": [],
   "source": [
    "query.show()"
   ]
  },
  {
   "cell_type": "markdown",
   "metadata": {},
   "source": [
    "### Clear the current selection list and add only \"\\\\laboratory\\\\hormone\\\\\" results"
   ]
  },
  {
   "cell_type": "code",
   "execution_count": null,
   "metadata": {
    "collapsed": false
   },
   "outputs": [],
   "source": [
    "query.select().clear()\n",
    "query.select().add(resource.dictionary().find(\"\\\\02 Medical history\\\\Medication history\\\\\").keys())\n",
    "query.select().show()"
   ]
  },
  {
   "cell_type": "markdown",
   "metadata": {
    "collapsed": true
   },
   "source": [
    "### Run some commands on the dictionary to find and then filter the query by gender "
   ]
  },
  {
   "cell_type": "code",
   "execution_count": null,
   "metadata": {
    "collapsed": false
   },
   "outputs": [],
   "source": [
    "gender = resource.dictionary().find(\"gender\")\n",
    "gender.help()"
   ]
  },
  {
   "cell_type": "code",
   "execution_count": null,
   "metadata": {
    "collapsed": false
   },
   "outputs": [],
   "source": [
    "gender.DataFrame()"
   ]
  },
  {
   "cell_type": "markdown",
   "metadata": {},
   "source": [
    "### Add a filter on our query to filter results to only female subjects"
   ]
  },
  {
   "cell_type": "code",
   "execution_count": null,
   "metadata": {
    "collapsed": false
   },
   "outputs": [],
   "source": [
    "query.filter().help()"
   ]
  },
  {
   "cell_type": "code",
   "execution_count": null,
   "metadata": {
    "collapsed": false
   },
   "outputs": [],
   "source": [
    "query.filter().add(\"\\\\01 Demographics\\\\Gender\\\\\", [\"Female\"])"
   ]
  },
  {
   "cell_type": "markdown",
   "metadata": {},
   "source": [
    "## View our query's criterion as it currently stands"
   ]
  },
  {
   "cell_type": "code",
   "execution_count": null,
   "metadata": {
    "collapsed": false
   },
   "outputs": [],
   "source": [
    "query.show()"
   ]
  },
  {
   "cell_type": "markdown",
   "metadata": {},
   "source": [
    "### We *MUST* add a consent group that is on the IRB proposal for the query to be accepted"
   ]
  },
  {
   "cell_type": "code",
   "execution_count": null,
   "metadata": {
    "collapsed": false
   },
   "outputs": [],
   "source": [
    "query.filter().add(\"\\\\00 Consent groups\\\\\", [\"COPD_HMB\"])"
   ]
  },
  {
   "cell_type": "markdown",
   "metadata": {},
   "source": [
    "### Run the query and display the results"
   ]
  },
  {
   "cell_type": "code",
   "execution_count": null,
   "metadata": {
    "collapsed": false
   },
   "outputs": [],
   "source": [
    "query.help()"
   ]
  },
  {
   "cell_type": "code",
   "execution_count": null,
   "metadata": {
    "collapsed": false
   },
   "outputs": [],
   "source": [
    "query.getCount()"
   ]
  },
  {
   "cell_type": "code",
   "execution_count": null,
   "metadata": {
    "collapsed": false
   },
   "outputs": [],
   "source": [
    "query.getResultsDataFrame()"
   ]
  },
  {
   "cell_type": "markdown",
   "metadata": {},
   "source": [
    "# You can even work with multiple queries at the same time without having them accidently interact with each other!"
   ]
  },
  {
   "cell_type": "code",
   "execution_count": null,
   "metadata": {
    "collapsed": false
   },
   "outputs": [],
   "source": [
    "# create 2 different queries\n",
    "query2 = resource.query()\n",
    "query3 = resource.query()\n",
    "\n",
    "# both queries should return the age of the subject at enrollment\n",
    "query2.select().add(resource.dictionary().find(\"\\\\01 Demographics\\\\Age at enrollment\\\\\").keys())\n",
    "query3.select().add(resource.dictionary().find(\"\\\\01 Demographics\\\\Age at enrollment\\\\\").keys())\n",
    "\n",
    "# filter the patient sets using different age cutoffs\n",
    "query2.filter().add(resource.dictionary().find(\"\\\\01 Demographics\\\\Age at enrollment\\\\\").keys(), min=65)\n",
    "query3.filter().add(resource.dictionary().find(\"\\\\01 Demographics\\\\Age at enrollment\\\\\").keys(), max=50)\n",
    "\n",
    "# MUST ADD CONSENT GROUPS TO QUERIES\n",
    "query2.filter().add(\"\\\\00 Consent groups\\\\\", [\"COPD_HMB\"])\n",
    "query3.filter().add(\"\\\\00 Consent groups\\\\\", [\"COPD_HMB\"])\n",
    "\n",
    "# get the results for both queries\n",
    "too_old = query2.getResultsDataFrame()\n",
    "too_young = query3.getResultsDataFrame()"
   ]
  },
  {
   "cell_type": "code",
   "execution_count": null,
   "metadata": {
    "collapsed": false
   },
   "outputs": [],
   "source": [
    "too_young.count()"
   ]
  },
  {
   "cell_type": "code",
   "execution_count": null,
   "metadata": {
    "collapsed": false
   },
   "outputs": [],
   "source": [
    "too_old.count()"
   ]
  },
  {
   "cell_type": "code",
   "execution_count": null,
   "metadata": {
    "collapsed": true
   },
   "outputs": [],
   "source": []
  },
  {
   "cell_type": "code",
   "execution_count": null,
   "metadata": {
    "collapsed": true
   },
   "outputs": [],
   "source": []
  },
  {
   "cell_type": "code",
   "execution_count": null,
   "metadata": {
    "collapsed": true
   },
   "outputs": [],
   "source": []
  }
 ],
 "metadata": {
  "kernelspec": {
   "display_name": "Python 3",
   "language": "python",
   "name": "python3"
  },
  "language_info": {
   "codemirror_mode": {
    "name": "ipython",
    "version": 3
   },
   "file_extension": ".py",
   "mimetype": "text/x-python",
   "name": "python",
   "nbconvert_exporter": "python",
   "pygments_lexer": "ipython3",
   "version": "3.5.2"
  }
 },
 "nbformat": 4,
 "nbformat_minor": 2
}
