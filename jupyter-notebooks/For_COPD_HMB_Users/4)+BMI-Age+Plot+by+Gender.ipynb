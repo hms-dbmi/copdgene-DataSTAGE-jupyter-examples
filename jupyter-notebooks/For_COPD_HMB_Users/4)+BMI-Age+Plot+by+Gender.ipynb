{
 "cells": [
  {
   "cell_type": "markdown",
   "metadata": {},
   "source": [
    "### *You must first run the \"MISC - Install Libraries.ipynb\" notebook to install needed libraries*"
   ]
  },
  {
   "cell_type": "markdown",
   "metadata": {},
   "source": [
    "## Import the needed libraries"
   ]
  },
  {
   "cell_type": "code",
   "execution_count": null,
   "metadata": {
    "collapsed": true
   },
   "outputs": [],
   "source": [
    "import pandas\n",
    "import numpy\n",
    "import matplotlib"
   ]
  },
  {
   "cell_type": "markdown",
   "metadata": {},
   "source": [
    "## Import your security token from file"
   ]
  },
  {
   "cell_type": "code",
   "execution_count": null,
   "metadata": {
    "collapsed": false
   },
   "outputs": [],
   "source": [
    "import os\n",
    "env = %env\n",
    "token_name = \"COPDgene_token.txt\"\n",
    "token_file = token_name\n",
    "has_error = False\n",
    "if os.path.isfile(token_file):\n",
    "    __token__ = open(token_file, \"r\").read()\n",
    "    if len(__token__) == 0:\n",
    "        has_error = True\n",
    "else: \n",
    "    has_error = True\n",
    "if has_error:\n",
    "    print(\"\\x1b[31m\")\n",
    "    print(\"!!! [_Security_Token_Error_] !!!\")\n",
    "    print(\"Please copy and save a valid PIC-SURE authentication token value into the file \\\"\"+token_name+\"\\\".\")\n",
    "    print(\"This file is located in the current Notebook directory.\")\n",
    "    open(token_file, \"w\").write(\"\")\n",
    "else:\n",
    "    print(\"\\x1b[32m\")\n",
    "    print(\"[_Security_Token_Imported_Correctly_]\")"
   ]
  },
  {
   "cell_type": "markdown",
   "metadata": {},
   "source": [
    "## Create an instance of the datasource adapter and get a reference to the data resource "
   ]
  },
  {
   "cell_type": "code",
   "execution_count": null,
   "metadata": {
    "collapsed": false
   },
   "outputs": [],
   "source": [
    "import PicSureClient\n",
    "import PicSureHpdsLib\n",
    "\n",
    "client = PicSureClient.Client()\n",
    "connection = client.connect(\"https://copdgene-dev.hms.harvard.edu/picsure/\", __token__, allowSelfSignedSSL=True)\n",
    "adapter = PicSureHpdsLib.Adapter(connection)\n",
    "adapter.list()"
   ]
  },
  {
   "cell_type": "code",
   "execution_count": null,
   "metadata": {
    "collapsed": true
   },
   "outputs": [],
   "source": [
    "resource = adapter.useResource(\"b6ef7b1a-56f6-11e9-8958-0242c0a83007\")"
   ]
  },
  {
   "cell_type": "markdown",
   "metadata": {},
   "source": [
    "## Get a listing of all \"demographics\" entries in the data dictionary. Show what actions can be done with the \"demographic_results\" object"
   ]
  },
  {
   "cell_type": "code",
   "execution_count": null,
   "metadata": {
    "collapsed": false,
    "scrolled": true
   },
   "outputs": [],
   "source": [
    "demographic_entries = resource.dictionary().find(\"Demographics\")\n",
    "demographic_entries.help()"
   ]
  },
  {
   "cell_type": "markdown",
   "metadata": {},
   "source": [
    "## Examine the demographic_entries results by converting it into a pandas DataFrame"
   ]
  },
  {
   "cell_type": "code",
   "execution_count": null,
   "metadata": {
    "collapsed": false
   },
   "outputs": [],
   "source": [
    "demographic_entries.DataFrame()"
   ]
  },
  {
   "cell_type": "code",
   "execution_count": null,
   "metadata": {
    "collapsed": false
   },
   "outputs": [],
   "source": [
    "resource.query().help()"
   ]
  },
  {
   "cell_type": "code",
   "execution_count": null,
   "metadata": {
    "collapsed": false
   },
   "outputs": [],
   "source": [
    "resource.query().filter().help()"
   ]
  },
  {
   "cell_type": "code",
   "execution_count": null,
   "metadata": {
    "collapsed": false
   },
   "outputs": [],
   "source": [
    "query_male = resource.query()\n",
    "query_male.filter().add(\"\\\\01 Demographics\\\\Gender\\\\\", [\"Male\"])\n",
    "\n",
    "query_female = resource.query()\n",
    "query_female.filter().add(\"\\\\01 Demographics\\\\Gender\\\\\", [\"Female\"])"
   ]
  },
  {
   "cell_type": "code",
   "execution_count": null,
   "metadata": {
    "collapsed": false
   },
   "outputs": [],
   "source": [
    "field_age = resource.dictionary().find(\"\\\\01 Demographics\\\\Age at enrollment\\\\\")\n",
    "field_BMI = resource.dictionary().find(\"\\\\BMI\\\\\")\n",
    "\n",
    "query_male.require().add(field_age.keys())\n",
    "query_male.require().add(field_BMI.keys())\n",
    "query_female.require().add(field_age.keys())\n",
    "query_female.require().add(field_BMI.keys())\n",
    "\n",
    "# add the correct consent group\n",
    "query_male.filter().add(\"\\\\00 Consent groups\\\\\", [\"COPD_HMB\"])\n",
    "query_female.filter().add(\"\\\\00 Consent groups\\\\\", [\"COPD_HMB\"])\n",
    "\n",
    "# show one of the queries' structure \n",
    "query_female.show()"
   ]
  },
  {
   "cell_type": "markdown",
   "metadata": {},
   "source": [
    "## Convert the query results for females into a DataFrame and plot it by BMI and Age"
   ]
  },
  {
   "cell_type": "code",
   "execution_count": null,
   "metadata": {
    "collapsed": false
   },
   "outputs": [],
   "source": [
    "df_f = query_female.getResultsDataFrame()\n",
    "plot_f = df_f.plot.scatter(x=\"\\\\01 Demographics\\\\Age at enrollment\\\\\", y=\"\\\\03 Clinical data\\\\Physical characteristics\\\\BMI\\\\\", c=\"#ffbabb40\")\n",
    "\n",
    "# ____ Uncomment if graphs are not displaying ____\n",
    "plot_f.plot()\n",
    "matplotlib.pyplot.show()"
   ]
  },
  {
   "cell_type": "markdown",
   "metadata": {},
   "source": [
    "## Convert the query results for males into a DataFrame and plot it by BMI and Age"
   ]
  },
  {
   "cell_type": "code",
   "execution_count": null,
   "metadata": {
    "collapsed": false
   },
   "outputs": [],
   "source": [
    "df_m = query_male.getResultsDataFrame()\n",
    "plot_m = df_m.plot.scatter(x=\"\\\\01 Demographics\\\\Age at enrollment\\\\\", y=\"\\\\03 Clinical data\\\\Physical characteristics\\\\BMI\\\\\", c=\"#5a7dd040\")\n",
    "\n",
    "# ____ Uncomment if graphs are not displaying ____\n",
    "plot_m.plot()\n",
    "matplotlib.pyplot.show()"
   ]
  },
  {
   "cell_type": "markdown",
   "metadata": {},
   "source": [
    "## Replot the results using a single DataFrame containing both male and female"
   ]
  },
  {
   "cell_type": "code",
   "execution_count": null,
   "metadata": {
    "collapsed": false
   },
   "outputs": [],
   "source": [
    "d = resource.dictionary()\n",
    "criteria = []\n",
    "criteria.extend(d.find(\"\\\\Gender\\\\\").keys())\n",
    "criteria.extend(d.find(\"\\\\BMI\\\\\").keys())\n",
    "criteria.extend(d.find(\"\\\\Age at enrollment\\\\\").keys())\n",
    "\n",
    "query_unified = resource.query()\n",
    "query_unified.require().add(criteria)\n",
    "query_unified.filter().add(\"\\\\00 Consent groups\\\\\", [\"COPD_HMB\"]) # MUST ADD CONSENT GROUP\n",
    "\n",
    "df_mf = query_unified.getResultsDataFrame()\n",
    "\n",
    "# map a color field for the plot to use\n",
    "sex_colors = {'Male':'#5a7dd040', 'Female':'#ffbabb40'}\n",
    "df_mf['\\\\sex_color\\\\'] = df_mf['\\\\01 Demographics\\\\Gender\\\\'].map(sex_colors)\n",
    "\n",
    "\n",
    "# plot data\n",
    "plot_mf = df_mf.plot.scatter(x=\"\\\\01 Demographics\\\\Age at enrollment\\\\\", y=\"\\\\03 Clinical data\\\\Physical characteristics\\\\BMI\\\\\", c=df_mf['\\\\sex_color\\\\'])\n",
    "\n",
    "# ____ Uncomment if graphs are not displaying ____\n",
    "plot_mf.plot()\n",
    "matplotlib.pyplot.show()"
   ]
  },
  {
   "cell_type": "markdown",
   "metadata": {},
   "source": [
    "## Replot data but trim outliers"
   ]
  },
  {
   "cell_type": "code",
   "execution_count": null,
   "metadata": {
    "collapsed": false
   },
   "outputs": [],
   "source": [
    "# use a masked arrays to remove outliers\n",
    "q = df_mf[\"\\\\03 Clinical data\\\\Physical characteristics\\\\BMI\\\\\"].quantile(0.9999)\n",
    "test1 = df_mf.mask(df_mf[\"\\\\03 Clinical data\\\\Physical characteristics\\\\BMI\\\\\"] > q)\n",
    "test2 = test1.mask(df_mf[\"\\\\01 Demographics\\\\Age at enrollment\\\\\"] < 45)\n",
    "tests = test2.mask(df_mf[\"\\\\01 Demographics\\\\Age at enrollment\\\\\"] > 80 )\n",
    "\n",
    "# plot data\n",
    "plot_mf = tests.plot.scatter(x=\"\\\\01 Demographics\\\\Age at enrollment\\\\\", y=\"\\\\03 Clinical data\\\\Physical characteristics\\\\BMI\\\\\", c=df_mf['\\\\sex_color\\\\'])\n",
    "\n",
    "# ____ Uncomment if graphs are not displaying ____\n",
    "plot_mf.plot()\n",
    "matplotlib.pyplot.show()"
   ]
  },
  {
   "cell_type": "code",
   "execution_count": null,
   "metadata": {
    "collapsed": true
   },
   "outputs": [],
   "source": []
  },
  {
   "cell_type": "code",
   "execution_count": null,
   "metadata": {
    "collapsed": true
   },
   "outputs": [],
   "source": []
  },
  {
   "cell_type": "code",
   "execution_count": null,
   "metadata": {
    "collapsed": true
   },
   "outputs": [],
   "source": []
  },
  {
   "cell_type": "code",
   "execution_count": null,
   "metadata": {
    "collapsed": true
   },
   "outputs": [],
   "source": []
  }
 ],
 "metadata": {
  "kernelspec": {
   "display_name": "Python 3",
   "language": "python",
   "name": "python3"
  },
  "language_info": {
   "codemirror_mode": {
    "name": "ipython",
    "version": 3
   },
   "file_extension": ".py",
   "mimetype": "text/x-python",
   "name": "python",
   "nbconvert_exporter": "python",
   "pygments_lexer": "ipython3",
   "version": "3.5.2"
  }
 },
 "nbformat": 4,
 "nbformat_minor": 1
}
