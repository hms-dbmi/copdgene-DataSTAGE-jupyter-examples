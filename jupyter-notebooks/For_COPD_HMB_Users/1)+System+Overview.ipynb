{
 "cells": [
  {
   "cell_type": "markdown",
   "metadata": {},
   "source": [
    "### *You must first run the \"MISC - Install Libraries.ipynb\" notebook to install needed libraries*"
   ]
  },
  {
   "cell_type": "markdown",
   "metadata": {},
   "source": [
    "# What is PIC-SURE"
   ]
  },
  {
   "cell_type": "markdown",
   "metadata": {},
   "source": [
    "PIC-SURE is a an ecosystem designed to handle very large amounts of data in a secure way.  This reduces the administrative load on researchers and allows them to better focus on Data Science discoveries.  PIC-SURE is composed of two major parts: 1) the PIC-SURE framework which handles communication, security, auditing and other system tasks, and 2) Datasets which are also described as \"data resources within the PIC-SURE service\".  The PIC-SURE also allows some \"data wrangling\" on the server, easing the amount of energy required by a researcher to load, process, and trim the data down to the details needed to conduct research.\n",
    "\n",
    "\n",
    "***What PIC-SURE does is allow you to filter a dataset to only the rows and columns that you are interested in***\n",
    "![title](./HPDS_Diagram.gif)"
   ]
  },
  {
   "cell_type": "markdown",
   "metadata": {},
   "source": [
    "## PIC-SURE Connector and Adapter Libraries\n",
    "All operations on PIC-SURE rely upon two component libraries: The Connection Library, and a Datasource Adapter Library.  The connection library manages network communication and authentication.  Within a PIC-SURE instance exists one or more Datasources.  Each Datasources is of a specific type and are run using different server code.  For each type of Datasource there is a Datasource Adapter Library which is written specifically to communicate with it's particular type of Datasource.\n",
    "\n",
    "\n",
    "In Python, the conneciton library is imported using the following statement:\n",
    "\n",
    "    import PicSureClient\n",
    "    \n",
    "One Datasource Adapter that can be imported is for HPDS-typed datasets.  This can be imported using the following statement:\n",
    "\n",
    "    import PicSureHpdsLib"
   ]
  },
  {
   "cell_type": "markdown",
   "metadata": {},
   "source": [
    "### Read your access token from file"
   ]
  },
  {
   "cell_type": "code",
   "execution_count": null,
   "metadata": {
    "collapsed": false
   },
   "outputs": [],
   "source": [
    "import os\n",
    "env = %env\n",
    "token_name = \"COPDgene_token.txt\"\n",
    "token_file = token_name\n",
    "has_error = False\n",
    "if os.path.isfile(token_file):\n",
    "    __token__ = open(token_file, \"r\").read()\n",
    "    if len(__token__) == 0:\n",
    "        has_error = True\n",
    "else: \n",
    "    has_error = True\n",
    "if has_error:\n",
    "    print(\"\\x1b[31m\")\n",
    "    print(\"!!! [_Security_Token_Error_] !!!\")\n",
    "    print(\"Please copy and save a valid PIC-SURE authentication token value into the file \\\"\"+token_name+\"\\\".\")\n",
    "    print(\"This file is located in the current Notebook directory.\")\n",
    "    open(token_file, \"w\").write(\"\")\n",
    "else:\n",
    "    print(\"\\x1b[32m\")\n",
    "    print(\"[_Security_Token_Imported_Correctly_]\")"
   ]
  },
  {
   "cell_type": "markdown",
   "metadata": {},
   "source": [
    "### Using the Connection Library to connect to a PIC-SURE endpoint\n",
    "\n",
    "\n",
    "The first step in using any PIC-SURE Resource is to establish a connection to the endpoint.  That is demonstrated the following code which: 1) imports the connection library, creates a reference to the library's communication client object, [then use the \"help()\" function on the client to see how to get the connection object]."
   ]
  },
  {
   "cell_type": "code",
   "execution_count": null,
   "metadata": {
    "collapsed": false
   },
   "outputs": [],
   "source": [
    "import PicSureClient\n",
    "client = PicSureClient.Client()\n",
    "client.help()"
   ]
  },
  {
   "cell_type": "code",
   "execution_count": null,
   "metadata": {
    "collapsed": true
   },
   "outputs": [],
   "source": [
    "# Now create a connection object by passing the PIC-SURE endpoint URL \n",
    "# and the security token to the client object's connect() function\n",
    "\n",
    "connection = client.connect(\"https://copdgene-dev.hms.harvard.edu/picsure/\", __token__, allowSelfSignedSSL=True)"
   ]
  },
  {
   "cell_type": "markdown",
   "metadata": {},
   "source": [
    "## Connect to the NHANES data resource using the HPDS Adapter\n",
    "\n",
    "After a valid connection is established to the PIC-SURE endpoint a Resource Adapter can be loaded and configured by passing the connection object to it's adapter object. Once the Adapter is connected, a PIC-SURE resource object is retreved by indicating its UUID to the Adapter's *useResource()* function."
   ]
  },
  {
   "cell_type": "code",
   "execution_count": null,
   "metadata": {
    "collapsed": false
   },
   "outputs": [],
   "source": [
    "import PicSureHpdsLib\n",
    "adapter = PicSureHpdsLib.Adapter(connection)\n",
    "adapter.help()"
   ]
  },
  {
   "cell_type": "markdown",
   "metadata": {},
   "source": [
    "## Use adapter.list() to discover what data resource are available"
   ]
  },
  {
   "cell_type": "code",
   "execution_count": null,
   "metadata": {
    "collapsed": false
   },
   "outputs": [],
   "source": [
    "adapter.list()"
   ]
  },
  {
   "cell_type": "markdown",
   "metadata": {},
   "source": [
    "## Get a data resource reference to be able to work with a dataset"
   ]
  },
  {
   "cell_type": "code",
   "execution_count": null,
   "metadata": {
    "collapsed": false
   },
   "outputs": [],
   "source": [
    "resource = adapter.useResource(\"b6ef7b1a-56f6-11e9-8958-0242c0a83007\")\n",
    "resource.help()"
   ]
  },
  {
   "cell_type": "code",
   "execution_count": null,
   "metadata": {
    "collapsed": true
   },
   "outputs": [],
   "source": []
  },
  {
   "cell_type": "code",
   "execution_count": null,
   "metadata": {
    "collapsed": true
   },
   "outputs": [],
   "source": []
  }
 ],
 "metadata": {
  "kernelspec": {
   "display_name": "Python 3",
   "language": "python",
   "name": "python3"
  },
  "language_info": {
   "codemirror_mode": {
    "name": "ipython",
    "version": 3
   },
   "file_extension": ".py",
   "mimetype": "text/x-python",
   "name": "python",
   "nbconvert_exporter": "python",
   "pygments_lexer": "ipython3",
   "version": "3.5.2"
  }
 },
 "nbformat": 4,
 "nbformat_minor": 1
}
