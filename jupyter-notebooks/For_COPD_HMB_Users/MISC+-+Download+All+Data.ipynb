{
 "cells": [
  {
   "cell_type": "markdown",
   "metadata": {},
   "source": [
    "# Here is an example of how to get access to all data"
   ]
  },
  {
   "cell_type": "markdown",
   "metadata": {},
   "source": [
    "### Import your security token from file"
   ]
  },
  {
   "cell_type": "code",
   "execution_count": null,
   "metadata": {
    "collapsed": false
   },
   "outputs": [],
   "source": [
    "import os\n",
    "env = %env\n",
    "token_name = \"COPDgene_token.txt\"\n",
    "token_file = token_name\n",
    "has_error = False\n",
    "if os.path.isfile(token_file):\n",
    "    __token__ = open(token_file, \"r\").read()\n",
    "    if len(__token__) == 0:\n",
    "        has_error = True\n",
    "else: \n",
    "    has_error = True\n",
    "if has_error:\n",
    "    print(\"\\x1b[31m\")\n",
    "    print(\"!!! [_Security_Token_Error_] !!!\")\n",
    "    print(\"Please copy and save a valid PIC-SURE authentication token value into the file \\\"\"+token_name+\"\\\".\")\n",
    "    print(\"This file is located in the current Notebook directory.\")\n",
    "    open(token_file, \"w\").write(\"\")\n",
    "else:\n",
    "    print(\"\\x1b[32m\")\n",
    "    print(\"[_Security_Token_Imported_Correctly_]\")"
   ]
  },
  {
   "cell_type": "markdown",
   "metadata": {},
   "source": [
    "### Connect to the NHANES data resource using the HPDS Adapter"
   ]
  },
  {
   "cell_type": "code",
   "execution_count": null,
   "metadata": {
    "collapsed": false
   },
   "outputs": [],
   "source": [
    "import PicSureClient\n",
    "import PicSureHpdsLib\n",
    "\n",
    "client = PicSureClient.Client()\n",
    "connection = client.connect(\"https://copdgene-dev.hms.harvard.edu/picsure/\", __token__, allowSelfSignedSSL=True)\n",
    "adapter = PicSureHpdsLib.Adapter(connection)\n",
    "adapter.list()"
   ]
  },
  {
   "cell_type": "code",
   "execution_count": null,
   "metadata": {
    "collapsed": true
   },
   "outputs": [],
   "source": [
    "resource = adapter.useResource(\"b6ef7b1a-56f6-11e9-8958-0242c0a83007\")"
   ]
  },
  {
   "cell_type": "markdown",
   "metadata": {},
   "source": [
    "### Download all data dictionary items "
   ]
  },
  {
   "cell_type": "code",
   "execution_count": null,
   "metadata": {
    "collapsed": false
   },
   "outputs": [],
   "source": [
    "all_terms = resource.dictionary().find()\n",
    "term_list = all_terms.keys()\n",
    "term_list.sort()\n",
    "term_list"
   ]
  },
  {
   "cell_type": "code",
   "execution_count": null,
   "metadata": {
    "collapsed": false
   },
   "outputs": [],
   "source": [
    "all_terms.DataFrame()"
   ]
  },
  {
   "cell_type": "markdown",
   "metadata": {},
   "source": [
    "### Get all subject records"
   ]
  },
  {
   "cell_type": "code",
   "execution_count": null,
   "metadata": {
    "collapsed": false
   },
   "outputs": [],
   "source": [
    "query = resource.query()\n",
    "query.help()"
   ]
  },
  {
   "cell_type": "code",
   "execution_count": null,
   "metadata": {
    "collapsed": false
   },
   "outputs": [],
   "source": [
    "query.select().add(all_terms.keys())\n",
    "\n",
    "# add the correct consent group\n",
    "query.filter().add(\"\\\\00 Consent groups\\\\\", [\"COPD_HMB\"])"
   ]
  },
  {
   "cell_type": "code",
   "execution_count": null,
   "metadata": {
    "collapsed": false
   },
   "outputs": [],
   "source": [
    "query.getResultsDataFrame()"
   ]
  },
  {
   "cell_type": "code",
   "execution_count": null,
   "metadata": {
    "collapsed": true
   },
   "outputs": [],
   "source": []
  },
  {
   "cell_type": "code",
   "execution_count": null,
   "metadata": {
    "collapsed": true
   },
   "outputs": [],
   "source": []
  },
  {
   "cell_type": "code",
   "execution_count": null,
   "metadata": {
    "collapsed": true
   },
   "outputs": [],
   "source": []
  },
  {
   "cell_type": "code",
   "execution_count": null,
   "metadata": {
    "collapsed": true
   },
   "outputs": [],
   "source": []
  }
 ],
 "metadata": {
  "kernelspec": {
   "display_name": "Python 3",
   "language": "python",
   "name": "python3"
  },
  "language_info": {
   "codemirror_mode": {
    "name": "ipython",
    "version": 3
   },
   "file_extension": ".py",
   "mimetype": "text/x-python",
   "name": "python",
   "nbconvert_exporter": "python",
   "pygments_lexer": "ipython3",
   "version": "3.5.2"
  }
 },
 "nbformat": 4,
 "nbformat_minor": 2
}
